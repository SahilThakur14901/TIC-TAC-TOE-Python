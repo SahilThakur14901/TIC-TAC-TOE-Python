{
 "cells": [
  {
   "cell_type": "code",
   "execution_count": 1,
   "metadata": {},
   "outputs": [],
   "source": [
    "from IPython.display import clear_output"
   ]
  },
  {
   "cell_type": "code",
   "execution_count": 2,
   "metadata": {},
   "outputs": [],
   "source": [
    "def display_board(board):\n",
    "    \n",
    "    clear_output()\n",
    "    \n",
    "    print(' '+board[1]+' | '+board[2]+' | '+board[3])\n",
    "    print('---+---+---')\n",
    "    print(' '+board[4]+' | '+board[5]+' | '+board[6])\n",
    "    print('---+---+---')\n",
    "    print(' '+board[7]+' | '+board[8]+' | '+board[9])"
   ]
  },
  {
   "cell_type": "code",
   "execution_count": 3,
   "metadata": {},
   "outputs": [
    {
     "name": "stdout",
     "output_type": "stream",
     "text": [
      "   |   |  \n",
      "---+---+---\n",
      "   |   |  \n",
      "---+---+---\n",
      "   |   |  \n"
     ]
    }
   ],
   "source": [
    "test_board = [' ',' ',' ',' ',' ',' ',' ',' ',' ',' ']\n",
    "\n",
    "display_board(test_board)"
   ]
  },
  {
   "cell_type": "code",
   "execution_count": 4,
   "metadata": {},
   "outputs": [],
   "source": [
    "#fn to take player input and return the markers for both players\n",
    "\n",
    "def player_input():\n",
    "    \n",
    "    marker = ' '\n",
    "    \n",
    "    while marker != 'X' and marker != 'O':\n",
    "        marker = input('Enter the marker for player 1 (X / O): ').upper()\n",
    "        \n",
    "    if marker == 'X':\n",
    "        return ('X', 'O')\n",
    "    else:\n",
    "        return ('O','X')"
   ]
  },
  {
   "cell_type": "code",
   "execution_count": 5,
   "metadata": {},
   "outputs": [
    {
     "name": "stdout",
     "output_type": "stream",
     "text": [
      "Enter the marker for player 1 (X / O): x\n"
     ]
    }
   ],
   "source": [
    "p1,p2 = player_input()"
   ]
  },
  {
   "cell_type": "code",
   "execution_count": 6,
   "metadata": {},
   "outputs": [
    {
     "data": {
      "text/plain": [
       "'X'"
      ]
     },
     "execution_count": 6,
     "metadata": {},
     "output_type": "execute_result"
    }
   ],
   "source": [
    "p1"
   ]
  },
  {
   "cell_type": "code",
   "execution_count": 7,
   "metadata": {},
   "outputs": [],
   "source": [
    "#fn to place the player's marker at the required place on the board\n",
    "\n",
    "def place_marker(board,place,marker):\n",
    "    \n",
    "    board[place] = marker"
   ]
  },
  {
   "cell_type": "code",
   "execution_count": 8,
   "metadata": {},
   "outputs": [
    {
     "name": "stdout",
     "output_type": "stream",
     "text": [
      "   |   |  \n",
      "---+---+---\n",
      "   | X |  \n",
      "---+---+---\n",
      "   |   |  \n"
     ]
    }
   ],
   "source": [
    "place_marker(test_board,5,'X')\n",
    "display_board(test_board)"
   ]
  },
  {
   "cell_type": "code",
   "execution_count": 9,
   "metadata": {},
   "outputs": [],
   "source": [
    "#fn to check whether a player has won\n",
    "\n",
    "def win_check(board,marker):\n",
    "    \n",
    "    return ((board[1] == board[2] == board[3] == marker) or         #horizontal check\n",
    "    (board[4] == board[5] == board[6] == marker) or                 #...\n",
    "    (board[7] == board[8] == board[9] == marker) or                 #...\n",
    "    (board[1] == board[4] == board[7] == marker) or                 #vertical check\n",
    "    (board[2] == board[5] == board[8] == marker) or                 #...\n",
    "    (board[3] == board[6] == board[9] == marker) or                 #...\n",
    "    #diagonal check\n",
    "    (board[1] == board[5] == board[9] == marker) or\n",
    "    (board[3] == board[5] == board[7] == marker))"
   ]
  },
  {
   "cell_type": "code",
   "execution_count": 10,
   "metadata": {},
   "outputs": [],
   "source": [
    "#fn to decide which player goes first\n",
    "\n",
    "import random                             #to use random.choice (randomly generates a number from list)\n",
    "\n",
    "def first_togo():\n",
    "    \n",
    "    rand = random.choice([0,1])\n",
    "    \n",
    "    if rand == 0:\n",
    "        return 'Player 1'\n",
    "    else:\n",
    "        return 'Player 2'"
   ]
  },
  {
   "cell_type": "code",
   "execution_count": 11,
   "metadata": {},
   "outputs": [],
   "source": [
    "#fn to check for free spaces on the board\n",
    "\n",
    "def space_check(board,place):\n",
    "    \n",
    "    return board[place] == ' '"
   ]
  },
  {
   "cell_type": "code",
   "execution_count": 12,
   "metadata": {},
   "outputs": [],
   "source": [
    "#fn to check if board is full \n",
    "\n",
    "def fullboard(board):\n",
    "    \n",
    "    flag = 0 \n",
    "    \n",
    "    for n in range(1,10):\n",
    "        if board[n] == ' ':\n",
    "            flag += 1\n",
    "            break\n",
    "    if flag == 1:\n",
    "        return False\n",
    "    else:\n",
    "        return True"
   ]
  },
  {
   "cell_type": "code",
   "execution_count": 13,
   "metadata": {},
   "outputs": [],
   "source": [
    "#fn to ask for player's choice and return that place if it is free \n",
    "\n",
    "def player_choice(board):\n",
    "    \n",
    "    place = 0\n",
    "    \n",
    "    while place not in range(1,10) or not space_check(board,place):\n",
    "        place = int(input('Enter the place where you want to place the marker (1-9): '))\n",
    "        \n",
    "    return place"
   ]
  },
  {
   "cell_type": "code",
   "execution_count": 14,
   "metadata": {},
   "outputs": [],
   "source": [
    "#fn to ask players if they want to replay\n",
    "\n",
    "def replay():\n",
    "    \n",
    "    choice = input('Play again? (Y/N): ').upper()\n",
    "    \n",
    "    return choice"
   ]
  },
  {
   "cell_type": "code",
   "execution_count": null,
   "metadata": {},
   "outputs": [],
   "source": []
  },
  {
   "cell_type": "code",
   "execution_count": null,
   "metadata": {},
   "outputs": [],
   "source": []
  },
  {
   "cell_type": "code",
   "execution_count": 16,
   "metadata": {},
   "outputs": [
    {
     "name": "stdout",
     "output_type": "stream",
     "text": [
      " O |   | X\n",
      "---+---+---\n",
      "   | O |  \n",
      "---+---+---\n",
      " X |   | O\n",
      "Player 2 has won!!\n",
      "Play again? (Y/N): n\n"
     ]
    }
   ],
   "source": [
    "#actual program\n",
    "\n",
    "print('Welcome to TIC-TAC-TOE!!!')\n",
    "\n",
    "while True:\n",
    "    board = [' ']*10\n",
    "    p1marker, p2marker = player_input()\n",
    "    \n",
    "    turn = first_togo()\n",
    "    print(turn + ' will go first.')\n",
    "    \n",
    "    play = input('Press Y to start: ').upper()\n",
    "    \n",
    "    if play == 'Y':\n",
    "        game = True\n",
    "    else:\n",
    "        game = False\n",
    "        \n",
    "    while game: \n",
    "        if turn == 'Player 1':\n",
    "            display_board(board)\n",
    "            place = player_choice(board)\n",
    "            place_marker(board,place,p1marker)\n",
    "            if win_check(board,p1marker):\n",
    "                display_board(board)\n",
    "                print('Player 1 has won!!')\n",
    "                break\n",
    "            elif fullboard(board):\n",
    "                display_board(board)\n",
    "                print('It is a tie!!')\n",
    "                break\n",
    "            else:\n",
    "                turn = 'Player 2'\n",
    "                \n",
    "        else:\n",
    "            display_board(board)\n",
    "            place = player_choice(board)\n",
    "            place_marker(board,place,p2marker)\n",
    "            if win_check(board,p2marker):\n",
    "                display_board(board)\n",
    "                print('Player 2 has won!!')\n",
    "                break\n",
    "            elif fullboard(board):\n",
    "                display_board(board)\n",
    "                print('It is a tie!!')\n",
    "                break\n",
    "            else:\n",
    "                turn = 'Player 1'         \n",
    "    \n",
    "    if replay() != 'Y':\n",
    "        break"
   ]
  },
  {
   "cell_type": "code",
   "execution_count": null,
   "metadata": {},
   "outputs": [],
   "source": []
  }
 ],
 "metadata": {
  "kernelspec": {
   "display_name": "Python 3",
   "language": "python",
   "name": "python3"
  },
  "language_info": {
   "codemirror_mode": {
    "name": "ipython",
    "version": 3
   },
   "file_extension": ".py",
   "mimetype": "text/x-python",
   "name": "python",
   "nbconvert_exporter": "python",
   "pygments_lexer": "ipython3",
   "version": "3.8.3"
  }
 },
 "nbformat": 4,
 "nbformat_minor": 4
}
